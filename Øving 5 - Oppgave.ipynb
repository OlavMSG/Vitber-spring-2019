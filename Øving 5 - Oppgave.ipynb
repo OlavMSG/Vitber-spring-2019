{
 "cells": [
  {
   "cell_type": "markdown",
   "metadata": {},
   "source": [
    "# TMA4320 - Øving 5, Iterative metoder\n",
    "\n",
    "Dette er en liten øving som du burde kunne gjøre før du starter opp med Prosjekt 2.\n",
    "Den bli veiledet i øvingstimen fredag 22.2, kl 9-10. Innleveringsfrist er fredag 1. mars.\n",
    "\n",
    "\n",
    "**Oppgave 1** Vi skal løse et spesifikt ligningssystem\n",
    "$$\n",
    "     A \\mathbf{u} = b,\\quad A\\in\\mathbb{R}^{n\\times n},\\quad b\\in\\mathbb{R}^n\n",
    "$$\n",
    "\n",
    "med hensyn på $\\mathbf{u}$ ved å bruke SOR-metoden. La $h=\\frac{1}{n+1}$ og la $b_i=h^2f(x_i)$\n",
    "der $f(x)$ er en funksjon definert på intervallet $x\\in[0,1]$. Vi tenker oss at systemet stammer fra Poisson-problemet $-u''(x)=f(x)$ der den dobbelderiverte er erstattet med en differenseformel, og en bruker randverdier $u(0)=u(1)=0$.\n",
    "Vi har da at\n",
    "\n",
    "$$\n",
    "A = \\left[\n",
    "\\begin{array}{rrrrrrr}\n",
    "2 & -1 & 0 &  \\cdots & 0  \\\\\n",
    "-1&  2 & -1    &   \\ddots      & \\vdots \\\\\n",
    "0 & \\ddots & \\ddots & \\ddots & 0 \\\\\n",
    "\\vdots &\\ddots & \\ddots &\\ddots & -1 \\\\\n",
    "0 &\\cdots & 0 & -1 & 2\n",
    "\\end{array} \n",
    "\\right]\n",
    "$$\n",
    "\n",
    "Du kan bruke følgende verdier til å teste ut:\n",
    "\n",
    "* $n=10$\n",
    "* $f(x)=x$ som impliserer at den eksakte løsningen er $u(x) = \\frac{1}{6}\\,x\\,(1-x^2)$ eller\n",
    "$\\mathbf{u}_i\\,=\\,ih\\,(1-(ih)^2),\\ i=1,\\ldots,n$\n",
    "* $\\mathtt{tol}=$1e-5\n",
    "* $\\omega=1.2$\n",
    "* $\\mathtt{maxiter}=1000$\n",
    "* $u_0=[0,\\ldots,0]^T$ (numpy.zeros(n))\n",
    "\n",
    "Bruk algoritmen beskrevet i boka på side 110 og bruk gjerne en funksjonsheader som nedenfor.\n",
    "Bruk det enkle feilestimatet $\\mathtt{est}=\\|u^{(k+1)}-u^{(k)}\\|$ (numpy.linalg.norm()).\n",
    "\n",
    "**NB!** Du kan skrive funksjonen som *dedikert* til matrisen $A$, dvs funksjonen hardkoder at $A$ er gitt som ovenfor og behøver ikke å kunne brukes for en vilkårlig $A$.\n",
    "\n",
    "**Kontrollspørsmål 1** Hvor mange iterasjoner trengs for å oppnå det spesifiserte stoppkriteriet ovenfor.\n",
    "Denne gangen angir du ditt resultat (ikke flervalg).\n",
    "\n",
    "**Oppgave 2** For tilfellet $n=30$, $f(x)=-\\sin x\\ln x$, $\\mathtt{tol}=$1e-5, $u_0=[0,\\ldots,0]^T$, prøv deg fram for å finne hvilken $\\omega$ som gjør at iterasjonen konvergerer raskest.\n",
    "\n",
    "**Kontrollspørsmål 2:** Angi din optimale $\\omega$ med 2 gjeldende siffer (dvs f.eks. 1.3). Du kan nøye deg med å søke etter $\\omega$-verdier i intervallet $[1,2]$. Her angir du også verdi (ikke flervalg).\n",
    "\n",
    "\n",
    "**Godkjenningskrav**\n",
    "En Jupyter notebook fil med funksjon som implementerer SOR-metoden som spesifisert skal lastes opp i Bb og det skal svares på kontrollspørsmål.\n",
    "\n"
   ]
  },
  {
   "cell_type": "code",
   "execution_count": 4,
   "metadata": {},
   "outputs": [],
   "source": [
    "import numpy as np\n",
    "import matplotlib.pyplot as plt\n",
    "\n",
    "\n",
    "\n",
    "    \n",
    "def Poisson(omega,f,u0,tol,maxiter):\n",
    "    #lager A = D + L + U og b\n",
    "    h = 1/(n+1)\n",
    "    L  = np.zeros((n,n))\n",
    "    U = np.zeros((n,n))\n",
    "    D  = np.zeros((n,n))\n",
    "    np.fill_diagonal(D, np.array(np.full((n,1), 2)))\n",
    "    b = np.linspace(0, 1, n + 2)\n",
    "    b = np.delete(b,n+1)\n",
    "    b = np.delete(b, 0)\n",
    "    b = f(b) * h**2\n",
    "    b = np.transpose(b)\n",
    "    for i in range(n):\n",
    "        if i> 0:\n",
    "            L[i,i-1] = -1\n",
    "        if i < n-1:\n",
    "            U[i,i+1] = -1\n",
    "    #for løkka\n",
    "    iter = 0\n",
    "    est = 1\n",
    "    temp = u0\n",
    "    while iter < maxiter and est > tol:\n",
    "        uk = temp\n",
    "        ukp1 = np.linalg.inv(omega * L + D) @ ((1 - omega) * D @uk  - omega * U @ uk) + omega * np.linalg.inv(D + omega * L) @ b\n",
    "        temp = ukp1\n",
    "        iter += 1\n",
    "        est = np.linalg.norm(ukp1  - uk)\n",
    "        '''\n",
    "        Compute the solution to Poisson's equation in 1D by means of the SOR method. \n",
    "        Return the computed solution u.\n",
    "        omega: Value of the relaxation parameter in SOR\n",
    "        f: The right hand side of the Poisson equation as in -u''(x) = f(x)\n",
    "        u0: The initial value for the iteration\n",
    "        tol: The tolerance to be used in the stopping criterion (est < tol)\n",
    "        maxiter: The maximum number of iterations\n",
    "\n",
    "        '''\n",
    "   \n",
    "    \n",
    "    return ukp1, iter\n",
    "\n",
    "\n"
   ]
  },
  {
   "cell_type": "code",
   "execution_count": 8,
   "metadata": {},
   "outputs": [
    {
     "name": "stdout",
     "output_type": "stream",
     "text": [
      "Kontrollspørsmål 1\n",
      "\n",
      "\n",
      "Antall iterasjoner: 61 \n",
      "u =  [0.01501485 0.02928066 0.0420466  0.05256151 0.06007402 0.06383252\n",
      " 0.06308523 0.05708027 0.0450657  0.02628957] \n",
      "\n",
      "[0.09015778 0.17580766 0.25244177 0.31555222 0.3606311  0.38317055\n",
      " 0.37866266 0.34259955 0.27047333 0.15777611]\n"
     ]
    }
   ],
   "source": [
    "import numpy as np\n",
    "import matplotlib.pyplot as plt\n",
    "\n",
    "def f1(x):\n",
    "    return x\n",
    "\n",
    "n = 10\n",
    "tol = 1e-5\n",
    "omega = 1.2\n",
    "maxiter = 1000\n",
    "u0 = np.transpose(np.zeros(n))\n",
    "\n",
    "u1, iter1 = Poisson(omega,f1,u0,tol,maxiter)\n",
    "\n",
    "print(\"Kontrollspørsmål 1\\n\")\n",
    "print(\"\\nAntall iterasjoner:\", iter1, \"\\nu = \", u1, \"\\n\")\n"
   ]
  },
  {
   "cell_type": "code",
   "execution_count": 11,
   "metadata": {},
   "outputs": [
    {
     "name": "stdout",
     "output_type": "stream",
     "text": [
      "minOmega: 1.8300000000000007\n",
      "min iter: 43\n"
     ]
    },
    {
     "data": {
      "image/png": "[encoded data removed]",
      "text/plain": [
       "<Figure size 432x288 with 1 Axes>"
      ]
     },
     "metadata": {},
     "output_type": "display_data"
    }
   ],
   "source": [
    "import numpy as np\n",
    "import matplotlib.pyplot as plt\n",
    "\n",
    "def f2(x):\n",
    "    return - np.sin(x) * np.log(x)\n",
    "\n",
    "n = 30\n",
    "tol = 1e-5\n",
    "maxiter = 1000\n",
    "u0 = np.transpose(np.zeros(n))\n",
    "\n",
    "iterationMin = 1000\n",
    "minOmega = 0\n",
    "iterList = np.zeros(100)\n",
    "i = 0\n",
    "for omega in np.arange(1, 2, 0.01):\n",
    "    u, iter = Poisson(omega,f2,u0,tol,maxiter)\n",
    "    iterList[i] = iter\n",
    "    i += 1\n",
    "    if iter < iterationMin:\n",
    "        iterationMin = iter\n",
    "        minOmega = omega\n",
    "# print(\"\\n number of iterations: \", iter)\n",
    "# print(\"u:\", u)\n",
    "print(\"minOmega:\", minOmega)\n",
    "print(\"min iter:\", iterationMin)\n",
    "## A plot that shows the lowest values for iterations\n",
    "plt.plot(np.linspace(1, 2, 100), iterList)\n",
    "\n",
    "plt.show()"
   ]
  },
  {
   "cell_type": "code",
   "execution_count": 3,
   "metadata": {},
   "outputs": [
    {
     "name": "stdout",
     "output_type": "stream",
     "text": [
      "For få delintervall, N =  2 med  \\begin{equation}\\omega\\end{equation} = 3  , b =  5  og  N_{\\omega}  =  5  endre på dette, og prøv igjen.\n"
     ]
    }
   ],
   "source": [
    "from sympy import latex, Indexed\n",
    "from sympy.abc import omega\n",
    "\n",
    "N = 2\n",
    "# boksbredde (m)\n",
    "L = 4.0e-9\n",
    "# omega, b, N_omega som heltall, altså omega = i betyr i posisjonsverdier, samme for b\n",
    "Omega = 3\n",
    "b = 5\n",
    "N_omega = 5\n",
    "\n",
    "print(\"For få delintervall, N = \", N, \"med \", latex(omega, mode = 'equation'), \"=\", Omega, \" , b = \", b, \" og \",latex(Indexed('N',omega)), \" = \", N_omega,\" endre på dette, og prøv igjen.\")"
   ]
  },
  {
   "cell_type": "code",
   "execution_count": 1,
   "metadata": {},
   "outputs": [
    {
     "name": "stderr",
     "output_type": "stream",
     "text": [
      "'[DeltaE_1_N_omega_len19_max20.pdf]' is not recognized as an internal or external command,\n",
      "operable program or batch file.\n"
     ]
    }
   ],
   "source": []
  },
  {
   "cell_type": "code",
   "execution_count": null,
   "metadata": {},
   "outputs": [],
   "source": []
  }
 ],
 "metadata": {
  "kernelspec": {
   "display_name": "Python 3",
   "language": "python",
   "name": "python3"
  },
  "language_info": {
   "codemirror_mode": {
    "name": "ipython",
    "version": 3
   },
   "file_extension": ".py",
   "mimetype": "text/x-python",
   "name": "python",
   "nbconvert_exporter": "python",
   "pygments_lexer": "ipython3",
   "version": "3.6.5"
  },
  "toc": {
   "base_numbering": 1,
   "nav_menu": {},
   "number_sections": true,
   "sideBar": true,
   "skip_h1_title": true,
   "title_cell": "Table of Contents",
   "title_sidebar": "Contents",
   "toc_cell": false,
   "toc_position": {},
   "toc_section_display": true,
   "toc_window_display": false
  }
 },
 "nbformat": 4,
 "nbformat_minor": 2
}
