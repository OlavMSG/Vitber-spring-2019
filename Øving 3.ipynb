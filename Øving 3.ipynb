{
 "cells": [
  {
   "cell_type": "markdown",
   "metadata": {},
   "source": [
    "# Øving 3 - Numerisk integrasjon\n",
    "\n",
    "Øvingen har innleveringsfrist fredag 1. februar, kl 11:00. Øvingen blir veiledet i øvingstimen 25. januar.\n",
    "For å øvingen godkjent må du 1) laste opp en Jupyter Notebook (gjerne basert på denne du nå leser) og\n",
    "svare på prøve med kontrollspørsmål, begge deler i Blackboard.\n",
    "\n",
    "**Oppgave 1** Bestem konstanter $R_1, R_2, R_3$ slik at kvadraturformelen\n",
    "\n",
    "$$\n",
    "    Q[f] = R_1 f(0) + R_2 f(0.5) + R_3 f(1)\n",
    "$$\n",
    "\n",
    "approksimerer \n",
    "\n",
    "$$\n",
    "    \\int_0^1 f(x)\\,dx\n",
    "$$\n",
    "\n",
    "med presisjonsgrad minst lik 2.\n",
    "\n",
    "**Kontrollspørsmål 1:** Oppgi $ R_2 - \\frac12 R_1 +  R_0$\n",
    "**Svar** Antatt simpsons metode gir dette $R_1=1/6, R_2=2/3 $ og $ R_3=1/6$, hvilket gir $ R_3 - \\frac12 R_2 +  R_1 = 0$"
   ]
  },
  {
   "cell_type": "markdown",
   "metadata": {},
   "source": [
    "**Oppgave 2** (Programmering). \n",
    "\n",
    "**a)** Implementer en adaptiv trapesmetode i Python som beskrevet i kapittel 5.4 \n",
    "(du kan gjerne bare oversette Program 5.2 til Python) i boka. Lag Python funksjonen slik at det teller opp og returnerer antall kall til funksjonen som definerer integranden (typisk kalt $f$).\n",
    "\n",
    "**b)** Kjør programmet med toleranse tol=1.0e-08 på integralet\n",
    "\n",
    "$$\n",
    "   I =  \\int_0^1 \\frac{e^{x}}{\\cos x}\\; dx\n",
    "$$\n",
    "\n",
    "**Kontrollspørsmål 2:** Hvor mange funksjonskall bruker programmet med den gitte toleransen på dette problemet.\n",
    "\n",
    "**c)** Test programmet med toleranse 1.0e-07 på problemet\n",
    "\n",
    "$$\n",
    "     \\int_0^{2\\sqrt{2\\pi}} \\sin x^2\\; dx\n",
    "$$\n",
    "\n",
    "Sannsynligvis returnerer funksjonen din et galt svar etter 1 iterasjon. Forklar hvorfor, og foreslå en måte å komme rundt problemet på. \n",
    "\n",
    "**Svar:** Dette er fordi både $a_0$ og $b_0$ satt inn i $x^2$ blir multiplikasjoner av $\\pi$, og $\\sin n\\pi = 0$, dette tilsier at første approksimasjon skal være lik $0$, men det er den ikke fordi en datamaskin bruker tilnærmede verdier av blandt annet $\\pi$ og $\\sin$. En måte å gjøre dette på er å flytte $b_0$ slik at dette ikke  skjer slik som gjort under fordi $5$ er tilnærmet lik $2\\sqrt{2\\pi}$. \n",
    "\n",
    "**Svar ekstra:**En annen måte som ser ut til å virke for å komme rundt dette på er teste om første approksimasjon alt er under toleransen for å så anta at dette er feil og sette den manuelt lik toleransen (med toleransen menes her $3*tol$). Kommentar: dette fungere her, men jeg vet ikke om dette fungerer generelt.\n",
    "\n",
    "**Kontrollspørsmål 3:** Angi antall funksjonskall når du endrer øvre grense i integralet fra $b=2\\sqrt{2\\pi}$ til\n",
    "$b=5$.\n"
   ]
  },
  {
   "cell_type": "code",
   "execution_count": 76,
   "metadata": {},
   "outputs": [],
   "source": [
    "\"\"\"Skriv ditt Python-program og test ut i denne cellen\"\"\"\n",
    "import numpy as np\n",
    "\n",
    "\n",
    "def f1(x):\n",
    "    return np.e ** x / np.cos(x)\n",
    "\n",
    "\n",
    "def f2(x):\n",
    "    return np.sin(x ** 2)\n",
    "\n",
    "def trap(f, a, b):\n",
    "    return (f(a) + f(b)) * (b - a) / 2\n",
    "\n",
    "def vec_3D_add3(veca, vecb, vecc): #skrevet slik at adapquad kan returner flere verdier lett.\n",
    "    return [veca[0] + vecb[0] + vecc[0], veca[1] + vecb[1] + vecc[1], veca[2] + vecb[2] + vecc[2]]\n",
    "\n",
    "\n",
    "def adapquad(f, a, b, tol, oldapp):\n",
    "    c = (a + b) / 2\n",
    "    app1 = trap(f, a, c)\n",
    "    app2 = trap(f, c, b)\n",
    "    itera = [4, 0, 0] #(vet at trap kaller f 2 ganger)*2\n",
    "    if np.abs(oldapp - (app1 + app2)) < 3 * tol:\n",
    "        itera[1:2] = [app1 + app2, 1] #en itterasjon er kjørt\n",
    "        return itera\n",
    "    else:\n",
    "        tol = tol / 2 #oppdaterer toleransen\n",
    "        return vec_3D_add3(itera, adapquad(f, a, c, tol, app1), adapquad(f, c, b, tol, app2))\n",
    "\n",
    "\n",
    "def runadapquad(f, a, b, tol, test):\n",
    "    app = trap(f, a, b)\n",
    "    if app < 3*tol and test: #Lagt til for å kunne teste løsning for fiks av feil.\n",
    "        print(\"Første approksimasjon = \", app)        #antar feil hvis dette stemmer og setter derfor første app på nytt\n",
    "        app = 3*tol       #Merk! vet ikke om dette fungere for alle funksjoner, men dette ser ut til å være det minste tallet som fungerer for f2\n",
    "    itera = vec_3D_add3([2, 0, 0], adapquad(f, a, b, tol, app), [0, 0, 0]) #vet at trap over kaller f to ganger\n",
    "    return itera #Vet at oppgaven kun spør om funksjonskall, med tilnærmet verdi av itergralet og antall iterasjoner er like interessant\n",
    "\n",
    "\n",
    "\n",
    "\n",
    "   \n",
    "      \n",
    "\n"
   ]
  },
  {
   "cell_type": "code",
   "execution_count": 77,
   "metadata": {},
   "outputs": [
    {
     "name": "stdout",
     "output_type": "stream",
     "text": [
      "2b) Antall kall til f =  53270  , Tilnærmet intergarl =  2.2177146898063844  , Antall iterasjoner =  6659\n"
     ]
    }
   ],
   "source": [
    "itera1= runadapquad(f1, 0, 1, 1.0e-8, False)\n",
    "print(\"2b) Antall kall til f = \", itera1[0], \" , Tilnærmet intergarl = \", itera1[1], \" , Antall iterasjoner = \", itera1[2])"
   ]
  },
  {
   "cell_type": "code",
   "execution_count": 78,
   "metadata": {},
   "outputs": [
    {
     "name": "stdout",
     "output_type": "stream",
     "text": [
      "2c) Antall kall til f =  6  , Tilnærmet intergarl =  -8.520839995119704e-15  , Antall iterasjoner =  1\n"
     ]
    }
   ],
   "source": [
    "itera2= runadapquad(f2, 0, 2*np.sqrt(2*np.pi), 1.0e-7, False)\n",
    "print(\"2c) Antall kall til f = \", itera2[0], \" , Tilnærmet intergarl = \", itera2[1], \" , Antall iterasjoner = \", itera2[2])"
   ]
  },
  {
   "cell_type": "code",
   "execution_count": 79,
   "metadata": {},
   "outputs": [
    {
     "name": "stdout",
     "output_type": "stream",
     "text": [
      "Første approksimasjon =  -1.1361119993492939e-14\n",
      "2c) Antall kall til f =  234542  , Tilnærmet intergarl =  0.527038343367052  , Antall iterasjoner =  29318\n"
     ]
    }
   ],
   "source": [
    "itera3= runadapquad(f2, 0, 2*np.sqrt(2*np.pi), 1.0e-7, True)\n",
    "print(\"2c) Antall kall til f = \", itera3[0], \" , Tilnærmet intergarl = \", itera3[1], \" , Antall iterasjoner = \", itera3[2])"
   ]
  },
  {
   "cell_type": "code",
   "execution_count": 80,
   "metadata": {},
   "outputs": [
    {
     "name": "stdout",
     "output_type": "stream",
     "text": [
      "2c) Antall kall til f =  233862  , Tilnærmet intergarl =  0.527917284798749  , Antall iterasjoner =  29233\n"
     ]
    }
   ],
   "source": [
    "itera4= runadapquad(f2, 0, 5, 1.0e-7, False)\n",
    "print(\"2c) Antall kall til f = \", itera4[0], \" , Tilnærmet intergarl = \", itera4[1], \" , Antall iterasjoner = \", itera4[2])"
   ]
  }
 ],
 "metadata": {
  "kernelspec": {
   "display_name": "Python 3",
   "language": "python",
   "name": "python3"
  },
  "language_info": {
   "codemirror_mode": {
    "name": "ipython",
    "version": 3
   },
   "file_extension": ".py",
   "mimetype": "text/x-python",
   "name": "python",
   "nbconvert_exporter": "python",
   "pygments_lexer": "ipython3",
   "version": "3.6.5"
  },
  "toc": {
   "base_numbering": 1,
   "nav_menu": {},
   "number_sections": true,
   "sideBar": true,
   "skip_h1_title": true,
   "title_cell": "Table of Contents",
   "title_sidebar": "Contents",
   "toc_cell": false,
   "toc_position": {},
   "toc_section_display": true,
   "toc_window_display": false
  }
 },
 "nbformat": 4,
 "nbformat_minor": 2
}
